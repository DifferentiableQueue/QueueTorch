{
 "cells": [
  {
   "cell_type": "code",
   "execution_count": 3,
   "metadata": {},
   "outputs": [],
   "source": [
    "import torch\n",
    "import torch.nn as nn\n",
    "import torch.nn.functional as F\n",
    "import torch.distributions.one_hot_categorical as one_hot_sample\n",
    "\n",
    "import queuetorch.env as env\n",
    "from queuetorch.env import QueuingNetwork\n",
    "import yaml\n",
    "from tqdm import trange\n",
    "\n",
    "import numpy as np\n",
    "import matplotlib.pyplot as plt"
   ]
  },
  {
   "cell_type": "code",
   "execution_count": 4,
   "metadata": {},
   "outputs": [],
   "source": [
    "name = 'criss_cross_bh'\n",
    "with open(f'../configs/env/{name}.yaml', 'r') as f:\n",
    "    env_config = yaml.safe_load(f)"
   ]
  },
  {
   "cell_type": "code",
   "execution_count": 5,
   "metadata": {},
   "outputs": [],
   "source": [
    "# Policy Neural Network\n",
    "class PolicyNet(nn.Module):\n",
    "    def __init__(self, s, q, layers, hidden_dim):\n",
    "        super().__init__()\n",
    "        self.s = s\n",
    "        self.q = q\n",
    "        self.layers = layers\n",
    "        self.hidden_dim = hidden_dim\n",
    "        \n",
    "        self.input_fc = nn.Linear(self.q, hidden_dim)    \n",
    "        self.layers_fc = nn.ModuleList()\n",
    "        for _ in range(layers):\n",
    "            self.layers_fc.append(nn.Linear(hidden_dim, hidden_dim))\n",
    "        self.output_fc = nn.Linear(hidden_dim, self.s * self.q)\n",
    "        \n",
    "    def forward(self, x):\n",
    "        \n",
    "        # Input layer\n",
    "        batch = x.size()[0]\n",
    "            \n",
    "        x = F.relu(self.input_fc(x))\n",
    "\n",
    "        # Hidden layer\n",
    "        for l in range(self.layers):\n",
    "            x = F.relu(self.layers_fc[l](x))\n",
    "\n",
    "        # Output layer\n",
    "        x = self.output_fc(x)\n",
    "        return F.softmax(torch.reshape(x, (batch, self.s , self.q)), dim = 2)"
   ]
  },
  {
   "cell_type": "markdown",
   "metadata": {},
   "source": [
    "# Train the policy"
   ]
  },
  {
   "cell_type": "code",
   "execution_count": 76,
   "metadata": {},
   "outputs": [],
   "source": [
    "epochs = 10\n",
    "seed = 42\n",
    "train_batch = 1\n",
    "train_horizon = 10000\n",
    "temp = 0.1\n",
    "lr = 8e-4"
   ]
  },
  {
   "cell_type": "code",
   "execution_count": 77,
   "metadata": {},
   "outputs": [],
   "source": [
    "dq = env.load_env(env_config, temp = temp, batch = train_batch, seed = seed, device = 'cpu')\n",
    "net = PolicyNet(s=dq.s,q=dq.q, layers = 2, hidden_dim = 128)\n",
    "optimizer = torch.optim.Adam(params = net.parameters(), lr = lr)"
   ]
  },
  {
   "cell_type": "code",
   "execution_count": 78,
   "metadata": {},
   "outputs": [
    {
     "name": "stdout",
     "output_type": "stream",
     "text": [
      "epoch:\t 0\n",
      "init queues:\t tensor([[0., 0., 0.]])\n"
     ]
    },
    {
     "name": "stderr",
     "output_type": "stream",
     "text": [
      "100%|██████████| 10000/10000 [00:02<00:00, 4092.41it/s]\n"
     ]
    },
    {
     "name": "stdout",
     "output_type": "stream",
     "text": [
      "train cost:\t18.162076950073242\n",
      "\n",
      "epoch:\t 1\n",
      "init queues:\t tensor([[ 0., 20.,  0.]])\n"
     ]
    },
    {
     "name": "stderr",
     "output_type": "stream",
     "text": [
      "100%|██████████| 10000/10000 [00:02<00:00, 4074.30it/s]\n"
     ]
    },
    {
     "name": "stdout",
     "output_type": "stream",
     "text": [
      "train cost:\t14.473548889160156\n",
      "\n",
      "epoch:\t 2\n",
      "init queues:\t tensor([[0., 3., 0.]])\n"
     ]
    },
    {
     "name": "stderr",
     "output_type": "stream",
     "text": [
      "100%|██████████| 10000/10000 [00:02<00:00, 4105.15it/s]\n"
     ]
    },
    {
     "name": "stdout",
     "output_type": "stream",
     "text": [
      "train cost:\t11.234309196472168\n",
      "\n",
      "epoch:\t 3\n",
      "init queues:\t tensor([[ 1., 11.,  0.]])\n"
     ]
    },
    {
     "name": "stderr",
     "output_type": "stream",
     "text": [
      "100%|██████████| 10000/10000 [00:02<00:00, 4063.02it/s]\n"
     ]
    },
    {
     "name": "stdout",
     "output_type": "stream",
     "text": [
      "train cost:\t11.544288635253906\n",
      "\n",
      "epoch:\t 4\n",
      "init queues:\t tensor([[1., 4., 0.]])\n"
     ]
    },
    {
     "name": "stderr",
     "output_type": "stream",
     "text": [
      "100%|██████████| 10000/10000 [00:02<00:00, 4217.58it/s]\n"
     ]
    },
    {
     "name": "stdout",
     "output_type": "stream",
     "text": [
      "train cost:\t13.97566032409668\n",
      "\n",
      "epoch:\t 5\n",
      "init queues:\t tensor([[13.,  5.,  4.]])\n"
     ]
    },
    {
     "name": "stderr",
     "output_type": "stream",
     "text": [
      "100%|██████████| 10000/10000 [00:02<00:00, 4300.27it/s]\n"
     ]
    },
    {
     "name": "stdout",
     "output_type": "stream",
     "text": [
      "train cost:\t15.028116226196289\n",
      "\n",
      "epoch:\t 6\n",
      "init queues:\t tensor([[16.,  2.,  3.]])\n"
     ]
    },
    {
     "name": "stderr",
     "output_type": "stream",
     "text": [
      "100%|██████████| 10000/10000 [00:02<00:00, 4041.33it/s]\n"
     ]
    },
    {
     "name": "stdout",
     "output_type": "stream",
     "text": [
      "train cost:\t13.098245620727539\n",
      "\n",
      "epoch:\t 7\n",
      "init queues:\t tensor([[1., 9., 0.]])\n"
     ]
    },
    {
     "name": "stderr",
     "output_type": "stream",
     "text": [
      "100%|██████████| 10000/10000 [00:02<00:00, 4042.43it/s]\n"
     ]
    },
    {
     "name": "stdout",
     "output_type": "stream",
     "text": [
      "train cost:\t20.267610549926758\n",
      "\n",
      "epoch:\t 8\n",
      "init queues:\t tensor([[0., 1., 2.]])\n"
     ]
    },
    {
     "name": "stderr",
     "output_type": "stream",
     "text": [
      "100%|██████████| 10000/10000 [00:02<00:00, 4206.48it/s]\n"
     ]
    },
    {
     "name": "stdout",
     "output_type": "stream",
     "text": [
      "train cost:\t15.636051177978516\n",
      "\n",
      "epoch:\t 9\n",
      "init queues:\t tensor([[15.,  8.,  1.]])\n"
     ]
    },
    {
     "name": "stderr",
     "output_type": "stream",
     "text": [
      "100%|██████████| 10000/10000 [00:02<00:00, 4108.11it/s]\n"
     ]
    },
    {
     "name": "stdout",
     "output_type": "stream",
     "text": [
      "train cost:\t15.353425025939941\n",
      "\n"
     ]
    }
   ],
   "source": [
    "obs, state = dq.reset(seed = 42)\n",
    "init_train_queues = obs.queues.detach().clone()\n",
    "\n",
    "for epoch in range(epochs):\n",
    "\n",
    "    # zero out the optimizer\n",
    "    optimizer.zero_grad()\n",
    "\n",
    "    # Train loop\n",
    "    obs, state = dq.reset(seed = epoch, init_queues = init_train_queues)\n",
    "    total_cost = torch.tensor([[0.]]*train_batch)\n",
    "    time_weight_queue_len = torch.tensor([[0.]]*train_batch)\n",
    "\n",
    "    print(f'epoch:\\t {epoch}')\n",
    "    print(f'init queues:\\t {obs.queues}')\n",
    "\n",
    "    queues_path = []\n",
    "\n",
    "    for _ in trange(train_horizon):\n",
    "        queues, time = obs\n",
    "        \n",
    "        pr = net(queues)\n",
    "\n",
    "        # work-conserving softmax\n",
    "        pr = pr * dq.network\n",
    "        pr = torch.minimum(pr, queues.unsqueeze(1).repeat(1, dq.s, 1))\n",
    "        pr += 1*torch.all(pr == 0., dim = 2).reshape(train_batch,dq.s,1).repeat(1,1,dq.q) * dq.network\n",
    "        pr /= torch.sum(pr, dim = -1).reshape(train_batch, dq.s, 1) \n",
    "\n",
    "        action = pr\n",
    "        obs, state, cost, event_time = dq.step(state, action)\n",
    "        \n",
    "        total_cost = total_cost + cost\n",
    "        \n",
    "    # Backward\n",
    "    loss = torch.mean(total_cost / train_horizon)\n",
    "    loss.backward()\n",
    "\n",
    "    torch.nn.utils.clip_grad_norm_(net.parameters(), max_norm = 1.0)\n",
    "    optimizer.step()\n",
    "\n",
    "    print(f\"train cost:\\t{torch.mean(total_cost / state.time)}\")\n",
    "    print()\n",
    "\n",
    "    init_train_queues = obs.queues.detach().clone()"
   ]
  },
  {
   "cell_type": "markdown",
   "metadata": {},
   "source": [
    "# Visualize the policy"
   ]
  },
  {
   "cell_type": "code",
   "execution_count": 80,
   "metadata": {},
   "outputs": [
    {
     "data": {
      "text/plain": [
       "Text(0.5, 0, 'Queue 1')"
      ]
     },
     "execution_count": 80,
     "metadata": {},
     "output_type": "execute_result"
    },
    {
     "data": {
      "image/png": "[encoded data removed]",
      "text/plain": [
       "<Figure size 640x480 with 1 Axes>"
      ]
     },
     "metadata": {},
     "output_type": "display_data"
    }
   ],
   "source": [
    "max_queue = 50\n",
    "base_level = 0\n",
    "\n",
    "X = np.arange(0, max_queue, 1)\n",
    "Y = np.arange(0, max_queue, 1)\n",
    "Z = np.zeros((max_queue,max_queue))\n",
    "\n",
    "for i in range(max_queue):\n",
    "    for j in range(max_queue):\n",
    "        obs = torch.tensor([base_level]*dq.q)\n",
    "        obs[0] = X[i]\n",
    "        obs[1] = Y[j]\n",
    "\n",
    "        obs = obs.float().unsqueeze(0).to('cpu')\n",
    "        Z[i][j] = net(obs)[0][0][0]\n",
    "\n",
    "plt.imshow(Z, interpolation='nearest', origin='lower')\n",
    "plt.xlabel('Queue 0')\n",
    "plt.xlabel('Queue 1')"
   ]
  },
  {
   "cell_type": "markdown",
   "metadata": {},
   "source": [
    "# Test the policy"
   ]
  },
  {
   "cell_type": "code",
   "execution_count": 81,
   "metadata": {},
   "outputs": [],
   "source": [
    "test_batch = 100\n",
    "test_seed = 99999\n",
    "test_horizon = 50000"
   ]
  },
  {
   "cell_type": "code",
   "execution_count": 82,
   "metadata": {},
   "outputs": [
    {
     "name": "stderr",
     "output_type": "stream",
     "text": [
      "100%|██████████| 50000/50000 [00:23<00:00, 2102.27it/s]"
     ]
    },
    {
     "name": "stdout",
     "output_type": "stream",
     "text": [
      "test cost: \t16.250837326049805\n"
     ]
    },
    {
     "name": "stderr",
     "output_type": "stream",
     "text": [
      "\n"
     ]
    }
   ],
   "source": [
    "# test\n",
    "\n",
    "dq = env.load_env(env_config, temp = 0.1, batch = test_batch, seed = test_seed, device = 'cpu')\n",
    "\n",
    "obs, state = dq.reset(seed = test_seed)\n",
    "total_cost = torch.tensor([[0.]]*test_batch)\n",
    "\n",
    "with torch.no_grad():\n",
    "    for _ in trange(test_horizon):\n",
    "\n",
    "        queues, time = obs\n",
    "        pr = net(queues)\n",
    "\n",
    "        # Work conserving softmax\n",
    "        pr = pr * dq.network\n",
    "        pr = torch.minimum(pr, queues.unsqueeze(1).repeat(1, dq.s, 1))\n",
    "        pr += 1*torch.all(pr == 0., dim = 2).reshape(test_batch,dq.s,1).repeat(1,1,dq.q) * dq.network\n",
    "        pr /= torch.sum(pr, dim = -1).reshape(test_batch, dq.s, 1)\n",
    "\n",
    "        # Randomize\n",
    "        action = one_hot_sample.OneHotCategorical(probs = pr).sample()\n",
    "\n",
    "        obs, state, cost, event_time = dq.step(state, action)\n",
    "        total_cost = total_cost + cost\n",
    "\n",
    "    test_cost = torch.mean(total_cost / state.time)\n",
    "    print(f\"test cost: \\t{test_cost}\")"
   ]
  }
 ],
 "metadata": {
  "kernelspec": {
   "display_name": "qtorch",
   "language": "python",
   "name": "python3"
  },
  "language_info": {
   "codemirror_mode": {
    "name": "ipython",
    "version": 3
   },
   "file_extension": ".py",
   "mimetype": "text/x-python",
   "name": "python",
   "nbconvert_exporter": "python",
   "pygments_lexer": "ipython3",
   "version": "3.11.5"
  }
 },
 "nbformat": 4,
 "nbformat_minor": 2
}
