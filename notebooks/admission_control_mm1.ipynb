{
 "cells": [
  {
   "cell_type": "code",
   "execution_count": null,
   "id": "29a01477-d0b2-4a9e-8186-064c6ff09a91",
   "metadata": {},
   "outputs": [],
   "source": [
    "%load_ext autoreload\n",
    "%autoreload 2"
   ]
  },
  {
   "cell_type": "code",
   "execution_count": null,
   "id": "04066e66-1491-4a62-aa0c-aa41e0f2118d",
   "metadata": {},
   "outputs": [],
   "source": [
    "import torch\n",
    "import torch.nn as nn\n",
    "import torch.nn.functional as F\n",
    "import torch.distributions.one_hot_categorical as one_hot_sample\n",
    "\n",
    "import queuetorch.env as env\n",
    "from queuetorch.env import QueuingNetwork\n",
    "import yaml\n",
    "from tqdm import trange\n",
    "\n",
    "import numpy as np\n",
    "import matplotlib.pyplot as plt"
   ]
  },
  {
   "cell_type": "code",
   "execution_count": null,
   "id": "f6458dee-ddc7-4c27-827c-b8d45b069f9f",
   "metadata": {},
   "outputs": [],
   "source": [
    "plt.rcParams[\"animation.html\"] = \"jshtml\"\n",
    "plt.rcParams['figure.dpi'] = 150  "
   ]
  },
  {
   "cell_type": "code",
   "execution_count": null,
   "id": "679d7bee-75fb-4258-b45e-cbd39e5a1b74",
   "metadata": {},
   "outputs": [],
   "source": [
    "def policy_cost(dq, buffer, T, init_queues = None, seed = 42):\n",
    "\n",
    "    total_cost = torch.tensor([[0.]]*dq.batch)\n",
    "    obs, state = dq.reset(seed = seed, init_queues = init_queues, buffer = buffer)\n",
    "\n",
    "    total_cost = torch.tensor([[0.]]*dq.batch)\n",
    "    torch.manual_seed(seed)\n",
    "\n",
    "    for _ in trange(T):\n",
    "        queues, time = obs\n",
    "\n",
    "        # Softmax policy for differentiability\n",
    "        pr = F.one_hot(torch.argmax(dq.mu*dq.h * 1.*(queues > 0.).unsqueeze(1), dim = 2), num_classes = dq.q)\n",
    "        pr = torch.minimum((pr * dq.network), queues.unsqueeze(1).repeat(1, dq.s, 1))\n",
    "        pr += 1*torch.all(pr == 0., dim = 2).reshape(dq.batch,dq.s,1) * dq.network\n",
    "        pr /= torch.sum(pr, dim = -1).reshape(dq.batch, dq.s, 1)\n",
    "\n",
    "        action = one_hot_sample.OneHotCategorical(probs = pr).sample()\n",
    "        \n",
    "        obs, state, cost, buffer_cost, event_time = dq.step(state, action, buffer)\n",
    "        total_cost += cost + buffer_cost\n",
    "\n",
    "    return total_cost / state.time, queues\n",
    "\n",
    "def fd_grad(dq, buffer, T = 10000, init_queues = None, sigma = 1, seed = 42):\n",
    "    \n",
    "    # finite differences\n",
    "    # f(x)\n",
    "    batch_buffer = buffer.repeat(dq.batch,1)\n",
    "    rand_signs = torch.sign(torch.randn(batch_buffer.size()))\n",
    "\n",
    "    # Plus\n",
    "    plus_buffer = torch.round(F.relu(batch_buffer + sigma * rand_signs))\n",
    "\n",
    "    torch.manual_seed(seed)\n",
    "    print('plus')\n",
    "    #print(plus_buffer)\n",
    "\n",
    "    plus_cost, _ = policy_cost(dq, plus_buffer, T, init_queues, seed)\n",
    "\n",
    "    # Minus\n",
    "    minus_buffer = torch.round(F.relu(batch_buffer - sigma * rand_signs))\n",
    "    obs, state = dq.reset(seed = seed, init_queues = init_queues, buffer = minus_buffer)\n",
    "\n",
    "    total_cost = torch.tensor([[0.]]*dq.batch)\n",
    "    torch.manual_seed(seed)\n",
    "    print('minus')\n",
    "    #print(minus_buffer)\n",
    "    \n",
    "    minus_cost, queues = policy_cost(dq, minus_buffer, T, init_queues, seed)\n",
    "\n",
    "    # Calculate gradient\n",
    "    two_point_grad = torch.mean(((plus_cost - minus_cost) / (2*sigma)) * rand_signs, dim = 0)\n",
    "    \n",
    "    return two_point_grad, queues.detach()\n",
    "\n",
    "def pathwise_grad(dq, buffer, T = 10000, init_queues = None, seed = 42):\n",
    "\n",
    "    # Cost and grad\n",
    "    avg_cost, queues = policy_cost(dq, buffer.repeat(dq.batch,1), T, init_queues, seed)\n",
    "    avg_cost.backward()\n",
    "\n",
    "    grad = buffer.grad\n",
    "\n",
    "    return grad, queues.detach()\n"
   ]
  },
  {
   "cell_type": "markdown",
   "id": "ad964702-175b-4825-b453-a3cf1a0673d5",
   "metadata": {},
   "source": [
    "# Experiments"
   ]
  },
  {
   "cell_type": "code",
   "execution_count": null,
   "id": "903ecc20-a5af-4c2e-93fb-b7bbb9ca8b28",
   "metadata": {},
   "outputs": [],
   "source": [
    "name = 'mm1'\n",
    "with open(f'../configs/env/{name}.yaml', 'r') as f:\n",
    "    env_config = yaml.safe_load(f)"
   ]
  },
  {
   "cell_type": "code",
   "execution_count": null,
   "id": "38a6394a-a86f-431f-b631-a147f345f13e",
   "metadata": {},
   "outputs": [],
   "source": [
    "dq = env.load_env(env_config, temp = 0.5, batch = 100, seed = 42, device = 'cpu')"
   ]
  },
  {
   "cell_type": "code",
   "execution_count": null,
   "id": "2aa35505-227a-420c-8757-88f2aa2ee7b7",
   "metadata": {},
   "outputs": [],
   "source": [
    "H = 10000\n",
    "b = 100."
   ]
  },
  {
   "cell_type": "markdown",
   "id": "5b3454b7-0d14-4713-a2eb-ed90f8bccc9e",
   "metadata": {},
   "source": [
    "# Gradient Descent Loop"
   ]
  },
  {
   "cell_type": "code",
   "execution_count": null,
   "id": "10d501ed-4312-44de-8802-5c2ad319c76e",
   "metadata": {
    "scrolled": true
   },
   "outputs": [],
   "source": [
    "buffer_float = 1. * torch.ones((1,dq.q)).float()\n",
    "buffer = torch.round(buffer_float)\n",
    "buffer.requires_grad = True\n",
    "num_iter = 30\n",
    "alpha = 1.0\n",
    "buffers = [buffer]\n",
    "\n",
    "train_seed = 42\n",
    "\n",
    "for i in range(num_iter):\n",
    "    \n",
    "    # Calculate gradient\n",
    "    dq = env.load_env(env_config, temp = 0.1, batch = 1, seed = train_seed + i, device = 'cpu')\n",
    "    dq.buffer_control = True\n",
    "    dq.b = torch.tensor([b]*dq.q)\n",
    "\n",
    "    if i == 0:\n",
    "        grad, queues = pathwise_grad(dq, buffer, H, init_queues = None, seed = train_seed)\n",
    "    else:\n",
    "        grad, queues = pathwise_grad(dq, buffer, H, init_queues = init_queues, seed = train_seed + i)\n",
    "\n",
    "    # sign gd\n",
    "    sign_grad = torch.sign(grad)\n",
    "    buffer_float = F.relu(buffer_float.detach() - sign_grad)\n",
    "    print(f'grad: {grad}')\n",
    "    print(f'buffer_float: {buffer_float}')\n",
    "    print(f'buffer: {buffer}')\n",
    "\n",
    "    init_queues = queues.detach()\n",
    "\n",
    "    buffer = torch.round(buffer_float.detach())\n",
    "    buffers.append(buffer)\n",
    "    buffer.requires_grad = True\n",
    "    "
   ]
  },
  {
   "cell_type": "markdown",
   "id": "248f390b-3449-411f-9dd5-c7f1eeb0bff6",
   "metadata": {},
   "source": [
    "# Evaluate"
   ]
  },
  {
   "cell_type": "code",
   "execution_count": null,
   "id": "10ff0ae2-c74e-404f-9aec-bb72bf527890",
   "metadata": {
    "scrolled": true
   },
   "outputs": [],
   "source": [
    "## Evaluate along the trajectory\n",
    "batch = 100\n",
    "test_seed = 90000342\n",
    "buffer_costs = []\n",
    "\n",
    "for count, buffer in enumerate(buffers):\n",
    "    print(buffer)\n",
    "    \n",
    "    dq = env.load_env(env_config, temp = 0.1, batch = batch, seed = test_seed, device = 'cpu')\n",
    "    dq.buffer_control = True\n",
    "    dq.b = torch.tensor([b]*dq.q)\n",
    "    \n",
    "    torch.manual_seed(test_seed)\n",
    "    obs, state = dq.reset(seed = test_seed)\n",
    "    total_cost = torch.tensor([[0.]]*batch)\n",
    "\n",
    "    for _ in trange(H):\n",
    "        \n",
    "        queues, time = obs\n",
    "\n",
    "        # C-mu rule\n",
    "        pr = F.one_hot(torch.argmax(dq.mu*dq.h * 1.*(queues > 0.).unsqueeze(1), dim = 2), num_classes = dq.q)\n",
    "        action = one_hot_sample.OneHotCategorical(probs = pr).sample()\n",
    "\n",
    "        #action = pr\n",
    "        obs, state, cost, buffer_cost, event_time = dq.step(state, action, buffer)\n",
    "        total_cost += cost + buffer_cost\n",
    "    \n",
    "    print(float(torch.mean(total_cost / state.time)))\n",
    "    buffer_costs.append(float(torch.mean(total_cost / state.time)))"
   ]
  },
  {
   "cell_type": "code",
   "execution_count": null,
   "id": "5a7d9c6b-427f-4a15-b1fb-7d408cefd4d1",
   "metadata": {
    "scrolled": true
   },
   "outputs": [],
   "source": [
    "## Evaluate for all points in a grid\n",
    "all_buffers = [i for i in range(1,30)]\n",
    "all_buffer_costs = []\n",
    "\n",
    "for buffer in all_buffers:\n",
    "    buffer = torch.tensor([buffer])\n",
    "    \n",
    "    dq = env.load_env(env_config, temp = 0.1, batch = batch, seed = test_seed, device = 'cpu')\n",
    "    dq.buffer_control = True\n",
    "    dq.b = torch.tensor([b]*dq.q)\n",
    "    \n",
    "    torch.manual_seed(test_seed)\n",
    "    obs, state = dq.reset(seed = test_seed, buffer = buffer)\n",
    "    total_cost = torch.tensor([[0.]]*batch)\n",
    "\n",
    "    for _ in trange(H):\n",
    "        \n",
    "        queues, time = obs\n",
    "        \n",
    "        pr = F.one_hot(torch.argmax(dq.mu*dq.h * 1.*(queues > 0.).unsqueeze(1), dim = 2), num_classes = dq.q)\n",
    "        action = one_hot_sample.OneHotCategorical(probs = pr).sample()\n",
    "\n",
    "        #action = pr\n",
    "        obs, state, cost, buffer_cost, event_time = dq.step(state, action, buffer)\n",
    "        total_cost += cost + buffer_cost\n",
    "\n",
    "    avg_cost = torch.mean(total_cost / state.time)\n",
    "    print(buffer, torch.mean(avg_cost))\n",
    "    all_buffer_costs.append(float(torch.mean(avg_cost)))"
   ]
  },
  {
   "cell_type": "code",
   "execution_count": null,
   "id": "0711334f-b7f9-415f-adfd-5c001cddb2d6",
   "metadata": {},
   "outputs": [],
   "source": [
    "buffer_cost_dict = {}\n",
    "for count,buf in enumerate(all_buffers):\n",
    "    buffer_cost_dict[buf] = all_buffer_costs[count]\n",
    "\n",
    "list_buffers = [int(a) for a in buffers]"
   ]
  },
  {
   "cell_type": "code",
   "execution_count": null,
   "id": "c2ae3d76-9c13-42bc-b483-33319e272a4a",
   "metadata": {},
   "outputs": [],
   "source": [
    "plt.plot(all_buffers, all_buffer_costs, zorder = 0, linewidth = 4, color = 'darkgreen', label = 'MM1 Holding Cost')\n",
    "plt.scatter(list_buffers, [buffer_cost_dict[int(b)] for b in list_buffers], color = 'orangered', zorder = 1, linewidth = 2)\n",
    "plt.plot(list_buffers, [buffer_cost_dict[int(b)] for b in list_buffers], color = 'orangered', zorder = 3, linewidth = 2, label = r'Pathwise ($B = 1$)')\n",
    "plt.legend(fontsize = 20)\n",
    "plt.ylabel('Average Cost', fontsize = 20)\n",
    "plt.xlabel('Buffer', fontsize = 20)\n",
    "plt.yticks(fontsize = 20)\n",
    "plt.xticks(fontsize = 20)\n",
    "plt.tight_layout()\n",
    "plt.show()"
   ]
  }
 ],
 "metadata": {
  "kernelspec": {
   "display_name": "Python 3 (ipykernel)",
   "language": "python",
   "name": "python3"
  },
  "language_info": {
   "codemirror_mode": {
    "name": "ipython",
    "version": 3
   },
   "file_extension": ".py",
   "mimetype": "text/x-python",
   "name": "python",
   "nbconvert_exporter": "python",
   "pygments_lexer": "ipython3",
   "version": "3.11.5"
  }
 },
 "nbformat": 4,
 "nbformat_minor": 5
}
