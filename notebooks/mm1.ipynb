{
 "cells": [
  {
   "cell_type": "code",
   "execution_count": 1,
   "metadata": {},
   "outputs": [],
   "source": [
    "import torch\n",
    "import torch.nn as nn\n",
    "import torch.nn.functional as F\n",
    "import torch.distributions.one_hot_categorical as one_hot_sample\n",
    "\n",
    "import queuetorch.env as env\n",
    "from queuetorch.env import QueuingNetwork\n",
    "import yaml\n",
    "from tqdm import trange\n",
    "\n",
    "import numpy as np\n",
    "import matplotlib.pyplot as plt"
   ]
  },
  {
   "cell_type": "code",
   "execution_count": 2,
   "metadata": {},
   "outputs": [
    {
     "name": "stderr",
     "output_type": "stream",
     "text": [
      "100%|██████████| 10000/10000 [00:00<00:00, 13292.57it/s]\n"
     ]
    }
   ],
   "source": [
    "import queuetorch as qt\n",
    "import queuetorch.env as env\n",
    "\n",
    "# Setup M/M/1 queue\n",
    "arrival_rates = lambda rng, t, batch: 0.9\n",
    "inter_arrival_dists = lambda state, batch: state.exponential(1, (batch, 1))\n",
    "service_dists = lambda state, batch, t: state.exponential(1, (batch, 1))\n",
    "\n",
    "network = torch.tensor([[1.]])\n",
    "mu = torch.tensor([[1.0]])\n",
    "h = torch.tensor([1.])\n",
    "\n",
    "dq = QueuingNetwork(network, mu, h, arrival_rates, inter_arrival_dists, service_dists, batch = 1, temp = 0.5)\n",
    "\n",
    "# Initialize environment\n",
    "obs, state = dq.reset(seed = 42)\n",
    "total_cost = torch.tensor([[0.]])\n",
    "    \n",
    "# Obtain Steady State\n",
    "for _ in trange(10000):\n",
    "    # state info and action\n",
    "    action = torch.tensor([[1.]])\n",
    "    \n",
    "    # step\n",
    "    obs, state, cost, event_time = dq.step(state, action)\n",
    "    total_cost += cost\n",
    "\n",
    "steady_state_mean = torch.mean(total_cost / obs.time)"
   ]
  },
  {
   "cell_type": "code",
   "execution_count": 3,
   "metadata": {},
   "outputs": [
    {
     "data": {
      "text/plain": [
       "tensor(13.6594)"
      ]
     },
     "execution_count": 3,
     "metadata": {},
     "output_type": "execute_result"
    }
   ],
   "source": [
    "print(steady_state_mean)"
   ]
  }
 ],
 "metadata": {
  "kernelspec": {
   "display_name": "qtorch",
   "language": "python",
   "name": "python3"
  },
  "language_info": {
   "codemirror_mode": {
    "name": "ipython",
    "version": 3
   },
   "file_extension": ".py",
   "mimetype": "text/x-python",
   "name": "python",
   "nbconvert_exporter": "python",
   "pygments_lexer": "ipython3",
   "version": "3.11.5"
  }
 },
 "nbformat": 4,
 "nbformat_minor": 2
}
